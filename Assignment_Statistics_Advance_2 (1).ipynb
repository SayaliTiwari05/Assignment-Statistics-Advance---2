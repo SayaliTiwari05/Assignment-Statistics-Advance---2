{
  "nbformat": 4,
  "nbformat_minor": 0,
  "metadata": {
    "colab": {
      "provenance": []
    },
    "kernelspec": {
      "name": "python3",
      "display_name": "Python 3"
    },
    "language_info": {
      "name": "python"
    }
  },
  "cells": [
    {
      "cell_type": "markdown",
      "source": [
        "**Q1: What is hypothesis testing in statistics?**\n",
        "\n",
        "Answer:\n",
        "\n",
        "Hypothesis testing in statistics is a method used to make decisions about a population based on sample data. It helps determine whether there is enough evidence to accept or reject a claim (hypothesis) about the population. For example, a company may test if the average delivery time is less than 30 minutes using sample data.\n"
      ],
      "metadata": {
        "id": "0SRRlPv7aZVx"
      }
    },
    {
      "cell_type": "markdown",
      "source": [
        "**Q.2:What is the null hypothesis, and how does it differ from the alternative\n",
        "hypothesis?**\n",
        "\n",
        "Answer:\n",
        "\n",
        "The null hypothesis (H₀) is a statement that assumes there is no effect, no difference, or no relationship in the population. It represents the default or existing condition.\n",
        "The alternative hypothesis (H₁ or Ha) is the opposite statement, suggesting that there is an effect, a difference, or a relationship\n",
        "\n",
        "Example: If we test whether the average exam score of students is 60,\n",
        "\n",
        "H₀: The average score = 60\n",
        "\n",
        "H₁: The average score ≠ 60"
      ],
      "metadata": {
        "id": "vtxbJp-8aoGm"
      }
    },
    {
      "cell_type": "markdown",
      "source": [
        "**Q.3: Explain the significance level in hypothesis testing and its role in deciding\n",
        "the outcome of a test.**\n",
        "\n",
        "\n",
        "Answer:\n",
        "\n",
        "The significance level (α) in hypothesis testing is the threshold used to decide whether to reject the null hypothesis. It represents the probability of making a Type I error (rejecting H₀ when it is actually true). Common values are 0.05 or 0.01. If the p-value is less than α, we reject the null hypothesis; otherwise, we fail to reject it.\n",
        "\n",
        "Example: At α = 0.05, there is a 5% risk of wrongly rejecting the null hypothesis."
      ],
      "metadata": {
        "id": "kosqCj2EbhP1"
      }
    },
    {
      "cell_type": "markdown",
      "source": [
        "**Q.4: What are Type I and Type II errors? Give examples of each.**\n",
        "\n",
        "\n",
        "Answer:\n",
        "\n",
        "A Type I error happens when we reject the null hypothesis even though it is true (false positive).\n",
        "A Type II error happens when we fail to reject the null hypothesis even though it is false (false negative).\n",
        "\n",
        "Type I error: Rejecting H₀ when it is true.\n",
        "\n",
        "Type II error: Failing to reject H₀ when it is false.\n",
        "\n",
        "Example: In an exam pass test where H₀ = \"A student has passed\":\n",
        "\n",
        "Type I error: Concluding the student failed when they actually passed.\n",
        "\n",
        "Type II error: Concluding the student passed when they actually failed."
      ],
      "metadata": {
        "id": "UEhfpaSjbo9j"
      }
    },
    {
      "cell_type": "markdown",
      "source": [
        "**Q.5: What is the difference between a Z-test and a T-test? Explain when to use\n",
        "each.**\n",
        "\n",
        "Answer:\n",
        "\n",
        "A Z-test is used when the population standard deviation is known, and the sample size is large (n > 30). It assumes the data follows a normal distribution.\n",
        "A T-test is used when the population standard deviation is unknown, and the sample size is small (n ≤ 30). It is based on the Student’s t-distribution.\n",
        "\n",
        "Example:\n",
        "\n",
        "Z-test: Checking if the average height of 1000 students matches the population mean.\n",
        "\n",
        "T-test: Checking if the average score of 20 students differs from 50 when population variance is unknown."
      ],
      "metadata": {
        "id": "-YwVzy3kboyV"
      }
    },
    {
      "cell_type": "code",
      "source": [
        "#Question 6: Write a Python program to generate a binomial distribution with n=10 and\n",
        "#p=0.5, then plot its histogram.\n",
        "import numpy as np\n",
        "import pandas as pd\n",
        "import matplotlib.pyplot as plt\n",
        "import seaborn as sns\n",
        "import warnings\n",
        "warnings.filterwarnings('ignore')\n",
        "\n",
        "data=np.random.binomial(n=10,p=0.5,size=1000)\n",
        "sns.histplot(data, bins=10, kde=False, color=\"blue\")\n",
        "plt.show()\n"
      ],
      "metadata": {
        "colab": {
          "base_uri": "https://localhost:8080/",
          "height": 430
        },
        "id": "Kjf_V85odcSf",
        "outputId": "45139ed6-2622-48a3-f0a0-5bf12da14cc7"
      },
      "execution_count": 2,
      "outputs": [
        {
          "output_type": "display_data",
          "data": {
            "text/plain": [
              "<Figure size 640x480 with 1 Axes>"
            ],
            "image/png": "[encoded data removed]"
          },
          "metadata": {}
        }
      ]
    },
    {
      "cell_type": "code",
      "source": [
        "#Question 7: Implement hypothesis testing using Z-statistics for a sample dataset in\n",
        "#Python. Show the Python code and interpret the results.\n",
        "#sample_data = [49.1, 50.2, 51.0, 48.7, 50.5, 49.8, 50.3, 50.7, 50.2, 49.6,\n",
        "#50.1, 49.9, 50.8, 50.4, 48.9, 50.6, 50.0, 49.7, 50.2, 49.5,\n",
        "#50.1, 50.3, 50.4, 50.5, 50.0, 50.7, 49.3, 49.8, 50.2, 50.9,\n",
        "#50.3, 50.4, 50.0, 49.7, 50.5, 49.9]\n",
        "\n",
        "import numpy as np\n",
        "import pandas as pd\n",
        "import matplotlib.pyplot as plt\n",
        "import seaborn as sns\n",
        "import warnings\n",
        "warnings.filterwarnings('ignore')\n",
        "\n",
        "import numpy as np\n",
        "import scipy.stats as stats\n",
        "\n",
        "sample_data = [49.1, 50.2, 51.0, 48.7, 50.5, 49.8, 50.3, 50.7, 50.2, 49.6,\n",
        "               50.1, 49.9, 50.8, 50.4, 48.9, 50.6, 50.0, 49.7, 50.2, 49.5,\n",
        "               50.1, 50.3, 50.4, 50.5, 50.0, 50.7, 49.3, 49.8, 50.2, 50.9,\n",
        "               50.3, 50.4, 50.0, 49.7, 50.5, 49.9]\n",
        "\n",
        "mu = 50\n",
        "\n",
        "sample_mean = np.mean(sample_data)\n",
        "sample_std = np.std(sample_data, ddof=1)\n",
        "n = len(sample_data)\n",
        "z_stat = (sample_mean - mu) / (sample_std / np.sqrt(n))\n",
        "\n",
        "p_value = 2 * (1 - stats.norm.cdf(abs(z_stat)))\n",
        "\n",
        "print(\"Sample Mean:\", sample_mean)\n",
        "print(\"Z-statistic:\", z_stat)\n",
        "print(\"p-value:\", p_value)\n",
        "\n"
      ],
      "metadata": {
        "colab": {
          "base_uri": "https://localhost:8080/"
        },
        "id": "QSorm3BhfXzM",
        "outputId": "c533d36f-9372-423e-f55a-13487caecd33"
      },
      "execution_count": 3,
      "outputs": [
        {
          "output_type": "stream",
          "name": "stdout",
          "text": [
            "Sample Mean: 50.08888888888889\n",
            "Z-statistic: 0.9940271559503017\n",
            "p-value: 0.3202096468890012\n"
          ]
        }
      ]
    },
    {
      "cell_type": "code",
      "source": [
        "#Question 8: Write a Python script to simulate data from a normal distribution and\n",
        "#calculate the 95% confidence interval for its mean. Plot the data using Matplotlib\n",
        "\n",
        "\n",
        "import numpy as np\n",
        "import matplotlib.pyplot as plt\n",
        "\n",
        "np.random.seed(0)\n",
        "data = np.random.normal(loc=50, scale=5, size=1000)\n",
        "\n",
        "sample_mean = np.mean(data)\n",
        "sample_std = np.std(data, ddof=1)\n",
        "n = len(data)\n",
        "\n",
        "std_error = sample_std / np.sqrt(n)\n",
        "\n",
        "z_value = 1.96\n",
        "lower_bound = sample_mean - z_value * std_error\n",
        "upper_bound = sample_mean + z_value * std_error\n",
        "\n",
        "print(\"Sample Mean:\", sample_mean)\n",
        "print(\"95% Confidence Interval:\", (lower_bound, upper_bound))\n",
        "\n",
        "plt.hist(data, bins=30, edgecolor='black', alpha=0.7)\n",
        "plt.title(\"Simulated Normal Distribution\")\n",
        "plt.xlabel(\"Value\")\n",
        "plt.ylabel(\"Frequency\")\n",
        "plt.legend()\n",
        "plt.show()\n"
      ],
      "metadata": {
        "colab": {
          "base_uri": "https://localhost:8080/",
          "height": 507
        },
        "id": "Zd_DJ8Y1kl-_",
        "outputId": "b737294f-4c31-4961-b444-df0fcb46aa2b"
      },
      "execution_count": 5,
      "outputs": [
        {
          "output_type": "stream",
          "name": "stdout",
          "text": [
            "Sample Mean: 49.77371646254902\n",
            "95% Confidence Interval: (np.float64(49.46767866043866), np.float64(50.07975426465938))\n"
          ]
        },
        {
          "output_type": "display_data",
          "data": {
            "text/plain": [
              "<Figure size 640x480 with 1 Axes>"
            ],
            "image/png": "[encoded data removed]"
          },
          "metadata": {}
        }
      ]
    },
    {
      "cell_type": "code",
      "source": [
        "#Question.9:visualize the standardized data using a histogram. Explain what the Z-scores represent\n",
        "#in terms of standard deviations from the mean.\n",
        "\"\"\"Explanation:\n",
        "A Z-score represents how many standard deviations a data point is away from the mean.\n",
        "Positive Z-score → above the mean\n",
        "Negative Z-score → below the mean\n",
        "Z = 0 → exactly at the mean\"\"\"\n",
        "\n",
        "import numpy as np\n",
        "import matplotlib.pyplot as plt\n",
        "\n",
        "# Example dataset\n",
        "data = np.array([45, 50, 55, 60, 65, 70, 50, 55, 60, 50])\n",
        "\n",
        "# Calculate mean and standard deviation\n",
        "mean = np.mean(data)\n",
        "std_dev = np.std(data, ddof=1)\n",
        "\n",
        "z_scores = (data - mean) / std_dev\n",
        "print(\"Z-scores:\", z_scores)\n",
        "\n",
        "plt.hist(z_scores, bins=10, edgecolor='black', alpha=0.7)\n",
        "plt.title(\"Histogram of Z-scores\")\n",
        "plt.xlabel(\"Z-score\")\n",
        "plt.ylabel(\"Frequency\")\n",
        "plt.legend()\n",
        "plt.show()\n",
        "\n"
      ],
      "metadata": {
        "colab": {
          "base_uri": "https://localhost:8080/",
          "height": 507
        },
        "id": "i3hv8Abgf_8P",
        "outputId": "0374ea65-8b39-46f6-d473-424bf17ef9d4"
      },
      "execution_count": 4,
      "outputs": [
        {
          "output_type": "stream",
          "name": "stdout",
          "text": [
            "Z-scores: [-1.42009389 -0.77459667 -0.12909944  0.51639778  1.161895    1.80739223\n",
            " -0.77459667 -0.12909944  0.51639778 -0.77459667]\n"
          ]
        },
        {
          "output_type": "display_data",
          "data": {
            "text/plain": [
              "<Figure size 640x480 with 1 Axes>"
            ],
            "image/png": "[encoded data removed]"
          },
          "metadata": {}
        }
      ]
    }
  ]
}